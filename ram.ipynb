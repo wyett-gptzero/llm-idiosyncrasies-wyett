{
 "cells": [
  {
   "cell_type": "code",
   "execution_count": 11,
   "id": "09d6b761",
   "metadata": {},
   "outputs": [],
   "source": [
    "import json\n",
    "\n",
    "def load_jsonl(file_path):\n",
    "    with open(file_path, \"r\") as f:\n",
    "        lst = f.readlines()\n",
    "    lst = [json.loads(i) for i in lst]\n",
    "    return lst\n",
    "\n",
    "def create_entry(model_name: str, return_ct: int, input_file_name: str,  output_file_name: str):\n",
    "    lst = load_jsonl(input_file_name)\n",
    "    lst = [i for i in lst if i[\"machine_data_tool_version\"] == model_name]\n",
    "    if return_ct > 0:\n",
    "        lst = lst[:return_ct]\n",
    "    lst = [[{\"role\": \"assistant\", \"content\": i[\"documents\"]}] for i in lst]\n",
    "    print(f\"{output_file_name}: {len(lst)}\")\n",
    "    with open(f\"{output_file_name}.json\", \"w\") as f:\n",
    "        f.write(json.dumps(lst))\n"
   ]
  },
  {
   "cell_type": "code",
   "execution_count": 12,
   "id": "522786dc",
   "metadata": {},
   "outputs": [
    {
     "name": "stdout",
     "output_type": "stream",
     "text": [
      "claude: 3589\n",
      "openai: 8697\n"
     ]
    }
   ],
   "source": [
    "\n",
    "create_entry(model_name=\"claude-3-7-sonnet@20250219\", return_ct=-1, input_file_name=\"all_data_with_text (1).jsonl\", output_file_name=\"claude\")\n",
    "create_entry(model_name=\"gpt-4o-2024-08-06_2023-07-01-preview\", return_ct=-1, input_file_name=\"all_data_with_text.jsonl\", output_file_name=\"openai\")"
   ]
  }
 ],
 "metadata": {
  "kernelspec": {
   "display_name": "Python 3",
   "language": "python",
   "name": "python3"
  },
  "language_info": {
   "codemirror_mode": {
    "name": "ipython",
    "version": 3
   },
   "file_extension": ".py",
   "mimetype": "text/x-python",
   "name": "python",
   "nbconvert_exporter": "python",
   "pygments_lexer": "ipython3",
   "version": "3.10.14"
  }
 },
 "nbformat": 4,
 "nbformat_minor": 5
}
